{
 "cells": [
  {
   "cell_type": "code",
   "execution_count": null,
   "id": "0648fb1c-cb24-41ed-95c7-c4ce9e6e3267",
   "metadata": {},
   "outputs": [
    {
     "name": "stdout",
     "output_type": "stream",
     "text": [
      " * Serving Flask app '__main__'\n",
      " * Debug mode: on\n"
     ]
    },
    {
     "name": "stderr",
     "output_type": "stream",
     "text": [
      "WARNING: This is a development server. Do not use it in a production deployment. Use a production WSGI server instead.\n",
      " * Running on http://127.0.0.1:5000\n",
      "Press CTRL+C to quit\n",
      "127.0.0.1 - - [29/Jul/2024 15:12:38] \"GET /games HTTP/1.1\" 200 -\n",
      "127.0.0.1 - - [29/Jul/2024 15:12:38] \"GET /messages?game=1 HTTP/1.1\" 200 -\n",
      "127.0.0.1 - - [29/Jul/2024 15:12:38] \"GET /messages?game=1 HTTP/1.1\" 200 -\n"
     ]
    },
    {
     "name": "stdout",
     "output_type": "stream",
     "text": [
      "Successfully connected to the database\n",
      "Successfully connected to the database\n",
      "Successfully connected to the database\n"
     ]
    },
    {
     "name": "stderr",
     "output_type": "stream",
     "text": [
      "127.0.0.1 - - [29/Jul/2024 15:12:39] \"GET /messages?game=20 HTTP/1.1\" 200 -\n"
     ]
    },
    {
     "name": "stdout",
     "output_type": "stream",
     "text": [
      "Successfully connected to the database\n"
     ]
    },
    {
     "name": "stderr",
     "output_type": "stream",
     "text": [
      "127.0.0.1 - - [29/Jul/2024 15:12:40] \"GET /messages?game=12 HTTP/1.1\" 200 -\n"
     ]
    },
    {
     "name": "stdout",
     "output_type": "stream",
     "text": [
      "Successfully connected to the database\n"
     ]
    },
    {
     "name": "stderr",
     "output_type": "stream",
     "text": [
      "127.0.0.1 - - [29/Jul/2024 15:12:41] \"GET /messages?game=3 HTTP/1.1\" 200 -\n"
     ]
    },
    {
     "name": "stdout",
     "output_type": "stream",
     "text": [
      "Successfully connected to the database\n"
     ]
    },
    {
     "name": "stderr",
     "output_type": "stream",
     "text": [
      "127.0.0.1 - - [29/Jul/2024 15:12:42] \"GET /messages?game=2 HTTP/1.1\" 200 -\n"
     ]
    },
    {
     "name": "stdout",
     "output_type": "stream",
     "text": [
      "Successfully connected to the database\n"
     ]
    },
    {
     "name": "stderr",
     "output_type": "stream",
     "text": [
      "127.0.0.1 - - [29/Jul/2024 15:12:43] \"GET /messages?game=9 HTTP/1.1\" 200 -\n"
     ]
    },
    {
     "name": "stdout",
     "output_type": "stream",
     "text": [
      "Successfully connected to the database\n"
     ]
    },
    {
     "name": "stderr",
     "output_type": "stream",
     "text": [
      "127.0.0.1 - - [29/Jul/2024 15:12:50] \"GET /messages?game=16 HTTP/1.1\" 200 -\n"
     ]
    },
    {
     "name": "stdout",
     "output_type": "stream",
     "text": [
      "Successfully connected to the database\n"
     ]
    },
    {
     "name": "stderr",
     "output_type": "stream",
     "text": [
      "127.0.0.1 - - [29/Jul/2024 15:12:51] \"GET /messages?game=10 HTTP/1.1\" 200 -\n"
     ]
    },
    {
     "name": "stdout",
     "output_type": "stream",
     "text": [
      "Successfully connected to the database\n"
     ]
    },
    {
     "name": "stderr",
     "output_type": "stream",
     "text": [
      "127.0.0.1 - - [29/Jul/2024 15:12:53] \"GET /messages?game=5 HTTP/1.1\" 200 -\n"
     ]
    },
    {
     "name": "stdout",
     "output_type": "stream",
     "text": [
      "Successfully connected to the database\n"
     ]
    },
    {
     "name": "stderr",
     "output_type": "stream",
     "text": [
      "127.0.0.1 - - [29/Jul/2024 15:12:54] \"GET /messages?game=15 HTTP/1.1\" 200 -\n"
     ]
    },
    {
     "name": "stdout",
     "output_type": "stream",
     "text": [
      "Successfully connected to the database\n"
     ]
    },
    {
     "name": "stderr",
     "output_type": "stream",
     "text": [
      "127.0.0.1 - - [29/Jul/2024 15:12:55] \"GET /messages?game=11 HTTP/1.1\" 200 -\n"
     ]
    },
    {
     "name": "stdout",
     "output_type": "stream",
     "text": [
      "Successfully connected to the database\n"
     ]
    },
    {
     "name": "stderr",
     "output_type": "stream",
     "text": [
      "127.0.0.1 - - [29/Jul/2024 15:12:56] \"GET /messages?game=13 HTTP/1.1\" 200 -\n"
     ]
    },
    {
     "name": "stdout",
     "output_type": "stream",
     "text": [
      "Successfully connected to the database\n"
     ]
    },
    {
     "name": "stderr",
     "output_type": "stream",
     "text": [
      "127.0.0.1 - - [29/Jul/2024 15:12:57] \"GET /messages?game=4 HTTP/1.1\" 200 -\n"
     ]
    },
    {
     "name": "stdout",
     "output_type": "stream",
     "text": [
      "Successfully connected to the database\n"
     ]
    },
    {
     "name": "stderr",
     "output_type": "stream",
     "text": [
      "127.0.0.1 - - [29/Jul/2024 15:13:00] \"GET /messages?game=7 HTTP/1.1\" 200 -\n"
     ]
    },
    {
     "name": "stdout",
     "output_type": "stream",
     "text": [
      "Successfully connected to the database\n"
     ]
    },
    {
     "name": "stderr",
     "output_type": "stream",
     "text": [
      "127.0.0.1 - - [29/Jul/2024 15:13:01] \"GET /messages?game=6 HTTP/1.1\" 200 -\n"
     ]
    },
    {
     "name": "stdout",
     "output_type": "stream",
     "text": [
      "Successfully connected to the database\n"
     ]
    },
    {
     "name": "stderr",
     "output_type": "stream",
     "text": [
      "127.0.0.1 - - [29/Jul/2024 15:13:02] \"GET /messages?game=8 HTTP/1.1\" 200 -\n"
     ]
    },
    {
     "name": "stdout",
     "output_type": "stream",
     "text": [
      "Successfully connected to the database\n"
     ]
    },
    {
     "name": "stderr",
     "output_type": "stream",
     "text": [
      "127.0.0.1 - - [29/Jul/2024 15:13:03] \"GET /messages?game=14 HTTP/1.1\" 200 -\n"
     ]
    },
    {
     "name": "stdout",
     "output_type": "stream",
     "text": [
      "Successfully connected to the database\n"
     ]
    },
    {
     "name": "stderr",
     "output_type": "stream",
     "text": [
      "127.0.0.1 - - [29/Jul/2024 15:13:04] \"GET /messages?game=18 HTTP/1.1\" 200 -\n"
     ]
    },
    {
     "name": "stdout",
     "output_type": "stream",
     "text": [
      "Successfully connected to the database\n"
     ]
    },
    {
     "name": "stderr",
     "output_type": "stream",
     "text": [
      "127.0.0.1 - - [29/Jul/2024 15:13:05] \"GET /messages?game=17 HTTP/1.1\" 200 -\n"
     ]
    },
    {
     "name": "stdout",
     "output_type": "stream",
     "text": [
      "Successfully connected to the database\n"
     ]
    },
    {
     "name": "stderr",
     "output_type": "stream",
     "text": [
      "127.0.0.1 - - [29/Jul/2024 15:13:06] \"GET /messages?game=19 HTTP/1.1\" 200 -\n"
     ]
    },
    {
     "name": "stdout",
     "output_type": "stream",
     "text": [
      "Successfully connected to the database\n"
     ]
    },
    {
     "name": "stderr",
     "output_type": "stream",
     "text": [
      "127.0.0.1 - - [29/Jul/2024 15:13:34] \"GET /messages?game=1 HTTP/1.1\" 200 -\n"
     ]
    },
    {
     "name": "stdout",
     "output_type": "stream",
     "text": [
      "Successfully connected to the database\n"
     ]
    }
   ],
   "source": [
    "import pymysql\n",
    "from pymysql.err import OperationalError, IntegrityError\n",
    "import datetime\n",
    "from flask import Flask, jsonify, request\n",
    "from flask_cors import CORS\n",
    "\n",
    "app = Flask(__name__)\n",
    "CORS(app)\n",
    "\n",
    "def create_connection():\n",
    "    \"\"\" Create a database connection to a MySQL database \"\"\"\n",
    "    connection = None\n",
    "    try:\n",
    "        connection = pymysql.connect(\n",
    "            host='localhost',      \n",
    "            user='root',   \n",
    "            password='200684',\n",
    "            database='descobridores_db'\n",
    "        )\n",
    "        print(\"Successfully connected to the database\")\n",
    "    except OperationalError as e:\n",
    "        print(f\"The error '{e}' occurred\")\n",
    "    \n",
    "    return connection\n",
    "\n",
    "def create_message(connection, username, date, avatar_number, message, is_admin, game_id):\n",
    "    cursor = connection.cursor()\n",
    "    query = \"\"\"\n",
    "    INSERT INTO messages (username, date, avatar_number, message, is_admin, game_id)\n",
    "    VALUES (%s, %s, %s, %s, %s, %s)\n",
    "    \"\"\"\n",
    "    data = (username, date, avatar_number, message, is_admin, game_id)\n",
    "    try:\n",
    "        cursor.execute(query, data)\n",
    "        connection.commit()\n",
    "        print(\"Message inserted successfully\")\n",
    "    except IntegrityError as e:\n",
    "        print(f\"The error '{e}' occurred\")\n",
    "\n",
    "def read_messages(connection):\n",
    "    cursor = connection.cursor()\n",
    "    query = \"SELECT * FROM messages\"\n",
    "    try:\n",
    "        cursor.execute(query)\n",
    "        result = cursor.fetchall()\n",
    "        for row in result:\n",
    "            print(row)\n",
    "    except OperationalError as e:\n",
    "        print(f\"The error '{e}' occurred\")\n",
    "\n",
    "\n",
    "def upload_to_github(file_path, filename):\n",
    "    # GitHub credentials and repository details\n",
    "    token = 'your_github_token'\n",
    "    repo_name = 'Descobridores/descobridores-versao-5'\n",
    "    commit_message = f'Add {filename}'\n",
    "\n",
    "    # Read the file content\n",
    "    with open(file_path, 'rb') as file:\n",
    "        content = file.read()\n",
    "\n",
    "    # Initialize GitHub client\n",
    "    g = Github(token)\n",
    "    repo = g.get_repo(repo_name)\n",
    "\n",
    "    # Create or update the file in the repository\n",
    "    try:\n",
    "        # Check if the file already exists\n",
    "        contents = repo.get_contents(filename)\n",
    "        repo.update_file(contents.path, commit_message, content, contents.sha)\n",
    "    except:\n",
    "        # If file does not exist, create it\n",
    "        repo.create_file(filename, commit_message, content)\n",
    "\n",
    "    # Remove the file from the local upload folder\n",
    "    os.remove(file_path)\n",
    "\n",
    "\n",
    "\n",
    "@app.route('/messages', methods=['GET'])\n",
    "def get_messages():\n",
    "    game_id = request.args.get('game')  # Get the 'game' parameter from the query string\n",
    "    connection = create_connection()\n",
    "    \n",
    "    cursor = connection.cursor(pymysql.cursors.DictCursor)\n",
    "    \n",
    "     # Construct the query based on whether 'game' parameter is provided\n",
    "    if game_id:\n",
    "        query = \"SELECT * FROM messages WHERE game_id = %s\"\n",
    "        cursor.execute(query, (game_id,))\n",
    "    else:\n",
    "        query = \"SELECT * FROM messages\"\n",
    "        cursor.execute(query)\n",
    "    \n",
    "    result = cursor.fetchall()\n",
    "    connection.close()\n",
    "    return jsonify(result)\n",
    "\n",
    "@app.route('/games', methods=['GET'])\n",
    "def get_games():\n",
    "    connection = create_connection()\n",
    "    \n",
    "    cursor = connection.cursor(pymysql.cursors.DictCursor)\n",
    "    \n",
    "    query = \"SELECT * FROM games\"\n",
    "    cursor.execute(query)\n",
    "    \n",
    "    result = cursor.fetchall()\n",
    "    connection.close()\n",
    "    return jsonify(result)\n",
    "\n",
    "\n",
    "\n",
    "@app.route('/upload', methods=['POST'])\n",
    "def upload_file():\n",
    "    if 'file' not in request.files:\n",
    "        return jsonify({'error': 'No file part'}), 400\n",
    "\n",
    "    file = request.files['file']\n",
    "    if file.filename == '':\n",
    "        return jsonify({'error': 'No selected file'}), 400\n",
    "\n",
    "    if file:\n",
    "        file_path = os.path.join(\"teste\", file.filename)\n",
    "        file.save(file_path)\n",
    "\n",
    "        # Upload to GitHub\n",
    "        upload_to_github(file_path, file.filename)\n",
    "\n",
    "        return jsonify({'message': 'File uploaded successfully!'}), 200\n",
    "\n",
    "\n",
    "\n",
    "\n",
    "if __name__ == '__main__':\n",
    "    app.run(debug=True, use_reloader=False)"
   ]
  },
  {
   "cell_type": "code",
   "execution_count": 6,
   "id": "9ad08687-b990-4dc1-8684-279726f98050",
   "metadata": {},
   "outputs": [
    {
     "name": "stdout",
     "output_type": "stream",
     "text": [
      "Successfully connected to the database\n",
      "Message inserted successfully\n",
      "Message inserted successfully\n",
      "Message inserted successfully\n",
      "Message inserted successfully\n",
      "Message inserted successfully\n",
      "Message inserted successfully\n",
      "Message inserted successfully\n",
      "Message inserted successfully\n",
      "Message inserted successfully\n",
      "Game inserted successfully\n",
      "Game inserted successfully\n",
      "(8, 'Maria', datetime.datetime(2024, 6, 23, 12, 0), 1, 'Hello, world!', 0, 1)\n",
      "(9, 'Murilo', datetime.datetime(2024, 6, 25, 11, 0), 1, 'Luctus sem. Phasellus tempor leo non velit tempus, et elementum nunc lacinia.', 1, 1)\n",
      "(10, 'Marcia', datetime.datetime(2024, 6, 26, 9, 0), 1, 'Lorem ipsum dolor sit amet. Sit sint provident eum quia animi quo nesciunt placeat. ', 0, 1)\n",
      "(11, 'Manoel', datetime.datetime(2024, 6, 19, 12, 0), 1, 'Ut quidem doloremque in inventore dolores et repellendus quas et esse quia.', 0, 1)\n",
      "(12, 'Marcos', datetime.datetime(2024, 6, 23, 12, 0), 1, 'Et ipsum consequatur a molestiae galisum et beatae molestiae.', 0, 2)\n",
      "(13, 'Mônica', datetime.datetime(2024, 6, 23, 12, 0), 1, 'Luctus sem. Phasellus tempor leo non velit tempus, et elementum nunc lacinia.', 1, 2)\n",
      "(14, 'Mariana', datetime.datetime(2024, 6, 23, 12, 0), 1, 'Hello, world!', 0, 4)\n",
      "(15, 'Moises', datetime.datetime(2024, 6, 23, 12, 0), 1, 'Et ipsum consequatur a molestiae galisum et beatae molestiae.', 0, 4)\n",
      "(16, 'Miriam', datetime.datetime(2024, 6, 23, 12, 0), 1, 'Meu nome é Míriam', 0, 4)\n"
     ]
    }
   ],
   "source": [
    "import pymysql\n",
    "from pymysql.err import OperationalError, IntegrityError\n",
    "\n",
    "def create_connection():\n",
    "    \"\"\" Create a database connection to a MySQL database \"\"\"\n",
    "    connection = None\n",
    "    try:\n",
    "        connection = pymysql.connect(\n",
    "            host='localhost',       \n",
    "            user='root',   \n",
    "            password='200684',\n",
    "            database='descobridores_db' \n",
    "        )\n",
    "        print(\"Successfully connected to the database\")\n",
    "    except OperationalError as e:\n",
    "        print(f\"The error '{e}' occurred\")\n",
    "    \n",
    "    return connection\n",
    "\n",
    "def create_message(connection, username, date, avatar_number, message, is_admin, game_id):\n",
    "    cursor = connection.cursor()\n",
    "    query = \"\"\"\n",
    "    INSERT INTO messages (username, date, avatar_number, message, is_admin, game_id)\n",
    "    VALUES (%s, %s, %s, %s, %s, %s)\n",
    "    \"\"\"\n",
    "    data = (username, date, avatar_number, message, is_admin, game_id)\n",
    "    try:\n",
    "        cursor.execute(query, data)\n",
    "        connection.commit()\n",
    "        print(\"Message inserted successfully\")\n",
    "    except IntegrityError as e:\n",
    "        print(f\"The error '{e}' occurred\")\n",
    "\n",
    "def read_messages(connection):\n",
    "    cursor = connection.cursor()\n",
    "    query = \"SELECT * FROM messages\"\n",
    "    try:\n",
    "        cursor.execute(query)\n",
    "        result = cursor.fetchall()\n",
    "        for row in result:\n",
    "            print(row)\n",
    "    except OperationalError as e:\n",
    "        print(f\"The error '{e}' occurred\")\n",
    "\n",
    "\n",
    "def create_game(connection, game_name):\n",
    "    cursor = connection.cursor()\n",
    "    query = \"\"\"\n",
    "    INSERT INTO games (game_name)\n",
    "    VALUES (%s)\n",
    "    \"\"\"\n",
    "    data = (game_name)\n",
    "    try:\n",
    "        cursor.execute(query, data)\n",
    "        connection.commit()\n",
    "        print(\"Game inserted successfully\")\n",
    "    except IntegrityError as e:\n",
    "        print(f\"The error '{e}' occurred\")\n",
    "\n",
    "def main():\n",
    "    connection = create_connection()\n",
    "    if connection:\n",
    "        # Example of inserting a message\n",
    "        create_message(connection, \"Maria\", \"2024-06-23 12:00:00\", 1, \"Hello, world!\", False, 1)\n",
    "        create_message(connection, \"Murilo\", \"2024-06-25 11:00:00\", 1, \"Luctus sem. Phasellus tempor leo non velit tempus, et elementum nunc lacinia.\", True, 1)\n",
    "        create_message(connection, \"Marcia\", \"2024-06-26 09:00:00\", 1, \"Lorem ipsum dolor sit amet. Sit sint provident eum quia animi quo nesciunt placeat. \", False, 1)\n",
    "        create_message(connection, \"Manoel\", \"2024-06-19 12:00:00\", 1, \"Ut quidem doloremque in inventore dolores et repellendus quas et esse quia.\", False, 1)\n",
    "        create_message(connection, \"Marcos\", \"2024-06-23 12:00:00\", 1, \"Et ipsum consequatur a molestiae galisum et beatae molestiae.\", False, 2)\n",
    "        create_message(connection, \"Mônica\", \"2024-06-23 12:00:00\", 1, \"Luctus sem. Phasellus tempor leo non velit tempus, et elementum nunc lacinia.\", True, 2)\n",
    "        create_message(connection, \"Mariana\", \"2024-06-23 12:00:00\", 1, \"Hello, world!\", False, 4)\n",
    "        create_message(connection, \"Moises\", \"2024-06-23 12:00:00\", 1, \"Et ipsum consequatur a molestiae galisum et beatae molestiae.\", False, 4)\n",
    "        create_message(connection, \"Miriam\", \"2024-06-23 12:00:00\", 1, \"Meu nome é Míriam\", False, 4)\n",
    "\n",
    "        #create_game(connection, \"APOSTE NA SOMA\") \n",
    "        #create_game(connection, \"CONSTRUINDO PIPAS\") \n",
    "        #create_game(connection, \"DESAFIO DA ESCADA\") \n",
    "        #create_game(connection, \"DESAFIO DA ILHA\") \n",
    "        #create_game(connection, \"DESAFIO DA PÁ SUJA\") \n",
    "        #create_game(connection, \"DESAFIO DAS BANDEIRAS\") \n",
    "        #create_game(connection, \"DESAFIO DAS VARETAS\") \n",
    "        #create_game(connection, \"DESAFIO DO DRAGÃO\") \n",
    "        #create_game(connection, \"FLORES NO JARDIM\") \n",
    "        #create_game(connection, \"GINCANA DAS ALTURAS\") \n",
    "        #create_game(connection, \"MILU E NALA\")\n",
    "        #create_game(connection, \"MONSTROS NA RODA\")\n",
    "        #create_game(connection, \"ORGANIZANDO O CURRAL\")\n",
    "        #create_game(connection, \"PALITOS COLORIDOS\")\n",
    "        #create_game(connection, \"QUANTOS RETÂNGULOS?\")\n",
    "        #create_game(connection, \"SEQUÊNCIA DE TRIÂNGULOS\")\n",
    "        #create_game(connection, \"TORRE DA MATILDA\")\n",
    "        #create_game(connection, \"TRIÂNGULOS AMIGOS\")\n",
    "        #create_game(connection, \"TRIÂNGULOS NO PENTÁGONO\")\n",
    "        #create_game(connection, \"TRIÂNGULOS NUMÉRICOS\")\n",
    "\n",
    "        create_game(connection, \"TESTE 1\")\n",
    "        create_game(connection, \"TESTE2\")\n",
    "        \n",
    "        # Example of reading messages\n",
    "        read_messages(connection)\n",
    "        \n",
    "        # Close the connection\n",
    "        connection.close()\n",
    "\n",
    "if __name__ == \"__main__\":\n",
    "    main()\n"
   ]
  },
  {
   "cell_type": "code",
   "execution_count": null,
   "id": "86fe3a25-b747-40e5-bbf2-09cd08a55f61",
   "metadata": {},
   "outputs": [],
   "source": []
  }
 ],
 "metadata": {
  "kernelspec": {
   "display_name": "Python 3 (ipykernel)",
   "language": "python",
   "name": "python3"
  },
  "language_info": {
   "codemirror_mode": {
    "name": "ipython",
    "version": 3
   },
   "file_extension": ".py",
   "mimetype": "text/x-python",
   "name": "python",
   "nbconvert_exporter": "python",
   "pygments_lexer": "ipython3",
   "version": "3.12.3"
  }
 },
 "nbformat": 4,
 "nbformat_minor": 5
}
