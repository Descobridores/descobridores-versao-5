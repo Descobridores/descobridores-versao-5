{
 "cells": [
  {
   "cell_type": "code",
   "execution_count": null,
   "id": "af6e897b-aeeb-4c2b-80f6-f26d12c4b27b",
   "metadata": {},
   "outputs": [],
   "source": [
    "python -m pip install g"
   ]
  },
  {
   "cell_type": "code",
   "execution_count": 1,
   "id": "ad4430af-0b63-4566-8033-a89ac59026ba",
   "metadata": {},
   "outputs": [
    {
     "ename": "ModuleNotFoundError",
     "evalue": "No module named 'github'",
     "output_type": "error",
     "traceback": [
      "\u001b[1;31m---------------------------------------------------------------------------\u001b[0m",
      "\u001b[1;31mModuleNotFoundError\u001b[0m                       Traceback (most recent call last)",
      "Cell \u001b[1;32mIn[1], line 4\u001b[0m\n\u001b[0;32m      2\u001b[0m \u001b[38;5;28;01mimport\u001b[39;00m \u001b[38;5;21;01mos\u001b[39;00m\n\u001b[0;32m      3\u001b[0m \u001b[38;5;28;01mimport\u001b[39;00m \u001b[38;5;21;01mbase64\u001b[39;00m\n\u001b[1;32m----> 4\u001b[0m \u001b[38;5;28;01mfrom\u001b[39;00m \u001b[38;5;21;01mgithub\u001b[39;00m \u001b[38;5;28;01mimport\u001b[39;00m Github\n\u001b[0;32m      6\u001b[0m app \u001b[38;5;241m=\u001b[39m Flask(\u001b[38;5;18m__name__\u001b[39m)\n\u001b[0;32m      7\u001b[0m UPLOAD_FOLDER \u001b[38;5;241m=\u001b[39m \u001b[38;5;124m'\u001b[39m\u001b[38;5;124muploads\u001b[39m\u001b[38;5;124m'\u001b[39m  \u001b[38;5;66;03m# Temporary folder to store uploaded files\u001b[39;00m\n",
      "\u001b[1;31mModuleNotFoundError\u001b[0m: No module named 'github'"
     ]
    }
   ],
   "source": [
    "from flask import Flask, request, jsonify\n",
    "import os\n",
    "import base64\n",
    "from github import Github\n",
    "\n",
    "app = Flask(__name__)\n",
    "UPLOAD_FOLDER = 'uploads'  # Temporary folder to store uploaded files\n",
    "\n",
    "# Ensure the upload folder exists\n",
    "if not os.path.exists(UPLOAD_FOLDER):\n",
    "    os.makedirs(UPLOAD_FOLDER)\n",
    "\n",
    "@app.route('/upload', methods=['POST'])\n",
    "def upload_file():\n",
    "    if 'file' not in request.files:\n",
    "        return jsonify({'error': 'No file part'}), 400\n",
    "\n",
    "    file = request.files['file']\n",
    "    if file.filename == '':\n",
    "        return jsonify({'error': 'No selected file'}), 400\n",
    "\n",
    "    if file:\n",
    "        file_path = os.path.join(UPLOAD_FOLDER, file.filename)\n",
    "        file.save(file_path)\n",
    "\n",
    "        # Upload to GitHub\n",
    "        upload_to_github(file_path, file.filename)\n",
    "\n",
    "        return jsonify({'message': 'File uploaded successfully!'}), 200\n",
    "\n",
    "def upload_to_github(file_path, filename):\n",
    "    # GitHub credentials and repository details\n",
    "    token = 'your_github_token'\n",
    "    repo_name = 'your_github_username/your_repo_name'\n",
    "    commit_message = f'Add {filename}'\n",
    "\n",
    "    # Read the file content\n",
    "    with open(file_path, 'rb') as file:\n",
    "        content = file.read()\n",
    "\n",
    "    # Initialize GitHub client\n",
    "    g = Github(token)\n",
    "    repo = g.get_repo(repo_name)\n",
    "\n",
    "    # Create or update the file in the repository\n",
    "    try:\n",
    "        # Check if the file already exists\n",
    "        contents = repo.get_contents(filename)\n",
    "        repo.update_file(contents.path, commit_message, content, contents.sha)\n",
    "    except:\n",
    "        # If file does not exist, create it\n",
    "        repo.create_file(filename, commit_message, content)\n",
    "\n",
    "    # Remove the file from the local upload folder\n",
    "    os.remove(file_path)\n",
    "\n",
    "if __name__ == '__main__':\n",
    "    app.run(debug=True)\n"
   ]
  }
 ],
 "metadata": {
  "kernelspec": {
   "display_name": "Python 3 (ipykernel)",
   "language": "python",
   "name": "python3"
  },
  "language_info": {
   "codemirror_mode": {
    "name": "ipython",
    "version": 3
   },
   "file_extension": ".py",
   "mimetype": "text/x-python",
   "name": "python",
   "nbconvert_exporter": "python",
   "pygments_lexer": "ipython3",
   "version": "3.12.3"
  }
 },
 "nbformat": 4,
 "nbformat_minor": 5
}
